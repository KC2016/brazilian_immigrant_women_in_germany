{
  "nbformat": 4,
  "nbformat_minor": 0,
  "metadata": {
    "colab": {
      "provenance": []
    },
    "kernelspec": {
      "name": "python3",
      "display_name": "Python 3"
    },
    "language_info": {
      "name": "python"
    }
  },
  "cells": [
    {
      "cell_type": "markdown",
      "source": [
        "## Services"
      ],
      "metadata": {
        "id": "gdLScfF9OPLj"
      }
    },
    {
      "cell_type": "code",
      "source": [
        "# list_categories = 'aesthetics,pets,healththerapy,furniture_transport,furniture_assembly,building_maintenance,none,realtor,online_services,\\\n",
        "# health,aesthetics, job_search,taxes,bureaucracy,online_services,aesthetics,n/a,n/a,social_support,food,none,none,transport,aesthetics,food,social_support,\\\n",
        "# food,house_help,social_support,lawer,social_support,heathy,online_services,books_in_portuguese,health,online_services,none,furniture_assembly,\\\n",
        "# furniture_transport,aesthetics,food,health,food,none,health,health,health,health,aesthetics,aesthetics,none,aesthetics,preventive_phisitherapy,\\\n",
        "# delivery,food,aesthetics,mental_health,pets,food,daycare_center,imigrants_support,extra_curricular_activities_for_children,delivery,transport,\\\n",
        "# health,health,aesthetics,kids,job_search,none,food,n/a,mental_health,none,none'\n",
        "\n",
        "# list_categories = list_categories.replace(\",\", \"', '\")\n",
        "\n"
      ],
      "metadata": {
        "id": "eRwhQHRFZZGg"
      },
      "execution_count": 105,
      "outputs": []
    },
    {
      "cell_type": "code",
      "source": [],
      "metadata": {
        "id": "uNMKgHTUxbX_"
      },
      "execution_count": 105,
      "outputs": []
    },
    {
      "cell_type": "code",
      "source": [
        "from google.colab import files\n",
        "import pandas as pd\n",
        "uploaded = files.upload()"
      ],
      "metadata": {
        "colab": {
          "base_uri": "https://localhost:8080/",
          "height": 73
        },
        "id": "_AF8NdfSJp3t",
        "outputId": "523b0f09-87f6-4638-cc58-29b87aac03ff"
      },
      "execution_count": 106,
      "outputs": [
        {
          "output_type": "display_data",
          "data": {
            "text/plain": [
              "<IPython.core.display.HTML object>"
            ],
            "text/html": [
              "\n",
              "     <input type=\"file\" id=\"files-79a3838b-af7b-42e7-92bc-58e6445a3a11\" name=\"files[]\" multiple disabled\n",
              "        style=\"border:none\" />\n",
              "     <output id=\"result-79a3838b-af7b-42e7-92bc-58e6445a3a11\">\n",
              "      Upload widget is only available when the cell has been executed in the\n",
              "      current browser session. Please rerun this cell to enable.\n",
              "      </output>\n",
              "      <script>// Copyright 2017 Google LLC\n",
              "//\n",
              "// Licensed under the Apache License, Version 2.0 (the \"License\");\n",
              "// you may not use this file except in compliance with the License.\n",
              "// You may obtain a copy of the License at\n",
              "//\n",
              "//      http://www.apache.org/licenses/LICENSE-2.0\n",
              "//\n",
              "// Unless required by applicable law or agreed to in writing, software\n",
              "// distributed under the License is distributed on an \"AS IS\" BASIS,\n",
              "// WITHOUT WARRANTIES OR CONDITIONS OF ANY KIND, either express or implied.\n",
              "// See the License for the specific language governing permissions and\n",
              "// limitations under the License.\n",
              "\n",
              "/**\n",
              " * @fileoverview Helpers for google.colab Python module.\n",
              " */\n",
              "(function(scope) {\n",
              "function span(text, styleAttributes = {}) {\n",
              "  const element = document.createElement('span');\n",
              "  element.textContent = text;\n",
              "  for (const key of Object.keys(styleAttributes)) {\n",
              "    element.style[key] = styleAttributes[key];\n",
              "  }\n",
              "  return element;\n",
              "}\n",
              "\n",
              "// Max number of bytes which will be uploaded at a time.\n",
              "const MAX_PAYLOAD_SIZE = 100 * 1024;\n",
              "\n",
              "function _uploadFiles(inputId, outputId) {\n",
              "  const steps = uploadFilesStep(inputId, outputId);\n",
              "  const outputElement = document.getElementById(outputId);\n",
              "  // Cache steps on the outputElement to make it available for the next call\n",
              "  // to uploadFilesContinue from Python.\n",
              "  outputElement.steps = steps;\n",
              "\n",
              "  return _uploadFilesContinue(outputId);\n",
              "}\n",
              "\n",
              "// This is roughly an async generator (not supported in the browser yet),\n",
              "// where there are multiple asynchronous steps and the Python side is going\n",
              "// to poll for completion of each step.\n",
              "// This uses a Promise to block the python side on completion of each step,\n",
              "// then passes the result of the previous step as the input to the next step.\n",
              "function _uploadFilesContinue(outputId) {\n",
              "  const outputElement = document.getElementById(outputId);\n",
              "  const steps = outputElement.steps;\n",
              "\n",
              "  const next = steps.next(outputElement.lastPromiseValue);\n",
              "  return Promise.resolve(next.value.promise).then((value) => {\n",
              "    // Cache the last promise value to make it available to the next\n",
              "    // step of the generator.\n",
              "    outputElement.lastPromiseValue = value;\n",
              "    return next.value.response;\n",
              "  });\n",
              "}\n",
              "\n",
              "/**\n",
              " * Generator function which is called between each async step of the upload\n",
              " * process.\n",
              " * @param {string} inputId Element ID of the input file picker element.\n",
              " * @param {string} outputId Element ID of the output display.\n",
              " * @return {!Iterable<!Object>} Iterable of next steps.\n",
              " */\n",
              "function* uploadFilesStep(inputId, outputId) {\n",
              "  const inputElement = document.getElementById(inputId);\n",
              "  inputElement.disabled = false;\n",
              "\n",
              "  const outputElement = document.getElementById(outputId);\n",
              "  outputElement.innerHTML = '';\n",
              "\n",
              "  const pickedPromise = new Promise((resolve) => {\n",
              "    inputElement.addEventListener('change', (e) => {\n",
              "      resolve(e.target.files);\n",
              "    });\n",
              "  });\n",
              "\n",
              "  const cancel = document.createElement('button');\n",
              "  inputElement.parentElement.appendChild(cancel);\n",
              "  cancel.textContent = 'Cancel upload';\n",
              "  const cancelPromise = new Promise((resolve) => {\n",
              "    cancel.onclick = () => {\n",
              "      resolve(null);\n",
              "    };\n",
              "  });\n",
              "\n",
              "  // Wait for the user to pick the files.\n",
              "  const files = yield {\n",
              "    promise: Promise.race([pickedPromise, cancelPromise]),\n",
              "    response: {\n",
              "      action: 'starting',\n",
              "    }\n",
              "  };\n",
              "\n",
              "  cancel.remove();\n",
              "\n",
              "  // Disable the input element since further picks are not allowed.\n",
              "  inputElement.disabled = true;\n",
              "\n",
              "  if (!files) {\n",
              "    return {\n",
              "      response: {\n",
              "        action: 'complete',\n",
              "      }\n",
              "    };\n",
              "  }\n",
              "\n",
              "  for (const file of files) {\n",
              "    const li = document.createElement('li');\n",
              "    li.append(span(file.name, {fontWeight: 'bold'}));\n",
              "    li.append(span(\n",
              "        `(${file.type || 'n/a'}) - ${file.size} bytes, ` +\n",
              "        `last modified: ${\n",
              "            file.lastModifiedDate ? file.lastModifiedDate.toLocaleDateString() :\n",
              "                                    'n/a'} - `));\n",
              "    const percent = span('0% done');\n",
              "    li.appendChild(percent);\n",
              "\n",
              "    outputElement.appendChild(li);\n",
              "\n",
              "    const fileDataPromise = new Promise((resolve) => {\n",
              "      const reader = new FileReader();\n",
              "      reader.onload = (e) => {\n",
              "        resolve(e.target.result);\n",
              "      };\n",
              "      reader.readAsArrayBuffer(file);\n",
              "    });\n",
              "    // Wait for the data to be ready.\n",
              "    let fileData = yield {\n",
              "      promise: fileDataPromise,\n",
              "      response: {\n",
              "        action: 'continue',\n",
              "      }\n",
              "    };\n",
              "\n",
              "    // Use a chunked sending to avoid message size limits. See b/62115660.\n",
              "    let position = 0;\n",
              "    do {\n",
              "      const length = Math.min(fileData.byteLength - position, MAX_PAYLOAD_SIZE);\n",
              "      const chunk = new Uint8Array(fileData, position, length);\n",
              "      position += length;\n",
              "\n",
              "      const base64 = btoa(String.fromCharCode.apply(null, chunk));\n",
              "      yield {\n",
              "        response: {\n",
              "          action: 'append',\n",
              "          file: file.name,\n",
              "          data: base64,\n",
              "        },\n",
              "      };\n",
              "\n",
              "      let percentDone = fileData.byteLength === 0 ?\n",
              "          100 :\n",
              "          Math.round((position / fileData.byteLength) * 100);\n",
              "      percent.textContent = `${percentDone}% done`;\n",
              "\n",
              "    } while (position < fileData.byteLength);\n",
              "  }\n",
              "\n",
              "  // All done.\n",
              "  yield {\n",
              "    response: {\n",
              "      action: 'complete',\n",
              "    }\n",
              "  };\n",
              "}\n",
              "\n",
              "scope.google = scope.google || {};\n",
              "scope.google.colab = scope.google.colab || {};\n",
              "scope.google.colab._files = {\n",
              "  _uploadFiles,\n",
              "  _uploadFilesContinue,\n",
              "};\n",
              "})(self);\n",
              "</script> "
            ]
          },
          "metadata": {}
        },
        {
          "output_type": "stream",
          "name": "stdout",
          "text": [
            "Saving cat.csv to cat (3).csv\n"
          ]
        }
      ]
    },
    {
      "cell_type": "code",
      "source": [
        "df = pd.read_csv('cat.csv', header=0)\n"
      ],
      "metadata": {
        "id": "8LFVUbNSBJ3a"
      },
      "execution_count": 108,
      "outputs": []
    },
    {
      "cell_type": "code",
      "source": [
        "df"
      ],
      "metadata": {
        "id": "s-Wjt4PpDAMe"
      },
      "execution_count": null,
      "outputs": []
    },
    {
      "cell_type": "code",
      "source": [
        "print(df.columns)"
      ],
      "metadata": {
        "colab": {
          "base_uri": "https://localhost:8080/"
        },
        "id": "nOxfi0sEN7tC",
        "outputId": "2ed5e7c3-be3a-4429-a57d-9d26af48f961"
      },
      "execution_count": 110,
      "outputs": [
        {
          "output_type": "stream",
          "name": "stdout",
          "text": [
            "Index(['category'], dtype='object')\n"
          ]
        }
      ]
    },
    {
      "cell_type": "code",
      "source": [
        "df['category'] = df['category'].str.replace('healthy', 'health')\n",
        "df['category'] = df['category'].str.replace('healththerapy', 'health')\n",
        "df['category'] = df['category'].str.replace('healtth', 'health')\n",
        "df['category'] = df['category'].str.replace('heath', 'health')\n",
        "df['category'] = df['category'].str.replace('pet', 'pets')\n",
        "df['category'] = df['category'].str.replace('extra_curricular_activities_for_children', 'kids')\n",
        "\n",
        "\n",
        "df['category'] = df['category'].str.replace('imigrants_support', 'imigration_support')\n",
        "df['category'] = df['category'].str.replace('preventive_phisitherapy', 'health')\n",
        "\n",
        "df['category'] = df['category'].str.replace('house_help', 'home_services')\n",
        "df['category'] = df['category'].str.replace('daycare_center', 'kids')\n",
        "\n",
        "df['category'] = df['category'].str.replace('books_in_portuguese', 'arts&culture')\n",
        "\n",
        "df['category'] = df['category'].str.replace('lawer','advocacy')\n",
        "\n",
        "df.value_counts()\n"
      ],
      "metadata": {
        "colab": {
          "base_uri": "https://localhost:8080/"
        },
        "id": "Zzow5MtyMcLi",
        "outputId": "28399117-4ea7-48ff-e05e-207a273e8896"
      },
      "execution_count": 111,
      "outputs": [
        {
          "output_type": "execute_result",
          "data": {
            "text/plain": [
              "category                                                                 \n",
              "none                                                                         23\n",
              "aesthetics                                                                   16\n",
              "health                                                                       16\n",
              "bureaucracy                                                                   8\n",
              "food                                                                          7\n",
              "online_services                                                               5\n",
              "aesthetics,food                                                               5\n",
              "mental_health                                                                 4\n",
              "delivery                                                                      4\n",
              "social_support                                                                3\n",
              "health,aesthetics                                                             3\n",
              "health,mental_health                                                          3\n",
              "arts&culture                                                                  3\n",
              "job                                                                           2\n",
              "home_services                                                                 2\n",
              "cleaning                                                                      2\n",
              "fitness,aesthetics                                                            1\n",
              "pets                                                                          1\n",
              "kids,job                                                                      1\n",
              "booking                                                                       1\n",
              "aesthetics,petss,health,furniture_assembly&transport,building_maintenance     1\n",
              "personalized_services                                                         1\n",
              "petss                                                                         1\n",
              "kids,health,food,brazilian_products                                           1\n",
              "realtor                                                                       1\n",
              "social_events                                                                 1\n",
              "aesthetics,mental_health,petss                                                1\n",
              "social_support,advocacy,social_support                                        1\n",
              "social_support,job,general_suppot                                             1\n",
              "spirituality                                                                  1\n",
              "transport                                                                     1\n",
              "kids,imigration_support                                                       1\n",
              "kids                                                                          1\n",
              "kids,food                                                                     1\n",
              "health,bureaucracy                                                            1\n",
              "food,health                                                                   1\n",
              "food,health,fitness,cleaning,food,social_events                               1\n",
              "food,home_services                                                            1\n",
              "furniture_assembly&transport                                                  1\n",
              "bureaucracy,taxes                                                             1\n",
              "health,aesthetics,bureaucracy                                                 1\n",
              "health,delivery                                                               1\n",
              "food,cleaning,transport,fitness                                               1\n",
              "health,delivery,food                                                          1\n",
              "health,food                                                                   1\n",
              "bureaucracy,job,german_school,taxes                                           1\n",
              "healthy                                                                       1\n",
              "imigration_support                                                            1\n",
              "job,taxes,bureaucracy                                                         1\n",
              "transport,health                                                              1\n",
              "dtype: int64"
            ]
          },
          "metadata": {},
          "execution_count": 111
        }
      ]
    },
    {
      "cell_type": "code",
      "source": [
        "df['category'] = df['category'].astype(str)\n",
        "\n",
        "list_categories = df['category'].tolist()\n",
        "# list_categories"
      ],
      "metadata": {
        "id": "So3aA250K1lw"
      },
      "execution_count": 112,
      "outputs": []
    },
    {
      "cell_type": "code",
      "source": [
        "# # Iterate over each category in the list\n",
        "# for category in list_categories:\n",
        "#     # Split the category into words using commas as separators\n",
        "#     words_in_category = category.split(',')\n",
        "\n",
        "#     # Remove leading and trailing spaces from each word and add them to the list\n",
        "#     for word in words_in_category:\n",
        "#         cleaned_word = word.strip()\n",
        "#         words.append(cleaned_word)\n",
        "\n",
        "# # Count occurrences of each unique word\n",
        "# word_counts = Counter(words)\n",
        "\n",
        "# # Convert the results to a Pandas DataFrame\n",
        "# df = pd.DataFrame(list(word_counts.items()), columns=['word', 'count'])\n",
        "\n",
        "# # Sort the DataFrame in descending order based on the 'count' column\n",
        "# df = df.sort_values(by='count', ascending=False)\n",
        "\n",
        "# # Display the DataFrame\n",
        "# print(df)"
      ],
      "metadata": {
        "id": "piKldUzfMDYj"
      },
      "execution_count": null,
      "outputs": []
    },
    {
      "cell_type": "code",
      "source": [
        "import pandas as pd\n",
        "from collections import Counter\n",
        "\n",
        "\n",
        "# Split each string into a list of words and flatten the list\n",
        "words = [word.strip(\", \") for category in list_categories for word in category.split(',')]\n",
        "\n",
        "# Count occurrences of each unique word\n",
        "counts = Counter(words)\n",
        "\n",
        "# Convert the results to a Pandas DataFrame\n",
        "df = pd.DataFrame(list(counts.items()), columns=['category', 'count'])\n",
        "\n",
        "# Sort the DataFrame in descending order based on the 'count' column\n",
        "df = df.sort_values(by='count', ascending=False)\n",
        "\n",
        "# Display the DataFrame\n",
        "print(df)"
      ],
      "metadata": {
        "id": "kl1BHEFgiaHa",
        "colab": {
          "base_uri": "https://localhost:8080/"
        },
        "outputId": "62b6f44c-7b5c-4a08-96ea-822941752314"
      },
      "execution_count": 113,
      "outputs": [
        {
          "output_type": "stream",
          "name": "stdout",
          "text": [
            "                        category  count\n",
            "2                         health     32\n",
            "0                     aesthetics     28\n",
            "5                           none     23\n",
            "13                          food     21\n",
            "11                           nan     14\n",
            "10                   bureaucracy     13\n",
            "20                 mental_health      8\n",
            "8                            job      6\n",
            "12                social_support      6\n",
            "19                      delivery      6\n",
            "7                online_services      5\n",
            "21                          kids      5\n",
            "24                      cleaning      4\n",
            "15                 home_services      3\n",
            "1                          petss      3\n",
            "18                  arts&culture      3\n",
            "26                       fitness      3\n",
            "14                     transport      3\n",
            "9                          taxes      3\n",
            "3   furniture_assembly&transport      2\n",
            "22            imigration_support      2\n",
            "25                 social_events      2\n",
            "29            brazilian_products      1\n",
            "27                 german_school      1\n",
            "28                          pets      1\n",
            "30                  spirituality      1\n",
            "31         personalized_services      1\n",
            "16                      advocacy      1\n",
            "23                       booking      1\n",
            "17                       healthy      1\n",
            "6                        realtor      1\n",
            "4           building_maintenance      1\n",
            "32                general_suppot      1\n"
          ]
        }
      ]
    },
    {
      "cell_type": "code",
      "source": [
        "# excel_file_path = 'cat1_counts.xlsx'\n",
        "\n",
        "## Save the DataFrame to Excel\n",
        "# df.to_excel(excel_file_path, index=False)\n",
        "\n",
        "\n",
        "# df.to_csv(excel_file_path, index=False)\n",
        "\n"
      ],
      "metadata": {
        "id": "Jr7Zj5WrR73X"
      },
      "execution_count": null,
      "outputs": []
    },
    {
      "cell_type": "code",
      "source": [
        "csv_file_path = 'cat1_counts.csv'\n",
        "\n",
        "# Save the DataFrame to Excel\n",
        "df.to_csv(csv_file_path, index=False)\n",
        "\n",
        "from google.colab import files\n",
        "\n",
        "file_path = 'cat1_counts.csv'\n",
        "files.download(file_path)"
      ],
      "metadata": {
        "id": "-3BFlbYdjLfp"
      },
      "execution_count": null,
      "outputs": []
    },
    {
      "cell_type": "markdown",
      "source": [],
      "metadata": {
        "id": "X8dQ79tGLgpx"
      }
    }
  ]
}